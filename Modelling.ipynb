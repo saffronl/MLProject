{
 "cells": [
  {
   "cell_type": "code",
   "execution_count": 1,
   "id": "37b8c80e",
   "metadata": {},
   "outputs": [],
   "source": [
    "import pandas as pd\n",
    "import numpy as  np\n",
    "import seaborn as sns\n",
    "import matplotlib.pyplot as plt\n",
    "from scipy import stats \n",
    "import math\n",
    "from sklearn.preprocessing import StandardScaler, PolynomialFeatures\n",
    "from sklearn.model_selection import KFold, cross_val_predict\n",
    "from sklearn.linear_model import LinearRegression, Lasso, Ridge\n",
    "from sklearn.metrics import r2_score, mean_squared_error\n",
    "from sklearn.pipeline import Pipeline"
   ]
  },
  {
   "cell_type": "code",
   "execution_count": 2,
   "id": "827fc30b",
   "metadata": {},
   "outputs": [],
   "source": [
    "df = pd.read_csv(\"final.csv\")"
   ]
  },
  {
   "cell_type": "code",
   "execution_count": 3,
   "id": "99be36d7",
   "metadata": {},
   "outputs": [
    {
     "data": {
      "text/html": [
       "<div>\n",
       "<style scoped>\n",
       "    .dataframe tbody tr th:only-of-type {\n",
       "        vertical-align: middle;\n",
       "    }\n",
       "\n",
       "    .dataframe tbody tr th {\n",
       "        vertical-align: top;\n",
       "    }\n",
       "\n",
       "    .dataframe thead th {\n",
       "        text-align: right;\n",
       "    }\n",
       "</style>\n",
       "<table border=\"1\" class=\"dataframe\">\n",
       "  <thead>\n",
       "    <tr style=\"text-align: right;\">\n",
       "      <th></th>\n",
       "      <th>DATE</th>\n",
       "      <th>Month</th>\n",
       "      <th>PRCP</th>\n",
       "      <th>TMAX</th>\n",
       "      <th>TMIN</th>\n",
       "      <th>AWND</th>\n",
       "      <th>TDIFF</th>\n",
       "      <th>WSF2</th>\n",
       "      <th>WSF5</th>\n",
       "      <th>intense</th>\n",
       "      <th>count of dry days</th>\n",
       "      <th>count of wet days</th>\n",
       "    </tr>\n",
       "  </thead>\n",
       "  <tbody>\n",
       "    <tr>\n",
       "      <th>0</th>\n",
       "      <td>1995-11-01</td>\n",
       "      <td>11</td>\n",
       "      <td>0.183214</td>\n",
       "      <td>57.083333</td>\n",
       "      <td>47.291667</td>\n",
       "      <td>6.93500</td>\n",
       "      <td>9.791667</td>\n",
       "      <td>13.0000</td>\n",
       "      <td>17.9000</td>\n",
       "      <td>0</td>\n",
       "      <td>0</td>\n",
       "      <td>6</td>\n",
       "    </tr>\n",
       "    <tr>\n",
       "      <th>1</th>\n",
       "      <td>1995-11-02</td>\n",
       "      <td>11</td>\n",
       "      <td>0.728929</td>\n",
       "      <td>64.782609</td>\n",
       "      <td>52.130435</td>\n",
       "      <td>7.44000</td>\n",
       "      <td>12.652174</td>\n",
       "      <td>14.1000</td>\n",
       "      <td>17.9000</td>\n",
       "      <td>0</td>\n",
       "      <td>0</td>\n",
       "      <td>7</td>\n",
       "    </tr>\n",
       "    <tr>\n",
       "      <th>2</th>\n",
       "      <td>1995-11-03</td>\n",
       "      <td>11</td>\n",
       "      <td>0.137500</td>\n",
       "      <td>70.250000</td>\n",
       "      <td>54.333333</td>\n",
       "      <td>7.88750</td>\n",
       "      <td>15.916667</td>\n",
       "      <td>15.0000</td>\n",
       "      <td>19.9000</td>\n",
       "      <td>0</td>\n",
       "      <td>0</td>\n",
       "      <td>8</td>\n",
       "    </tr>\n",
       "    <tr>\n",
       "      <th>3</th>\n",
       "      <td>1995-11-04</td>\n",
       "      <td>11</td>\n",
       "      <td>0.015357</td>\n",
       "      <td>60.250000</td>\n",
       "      <td>37.375000</td>\n",
       "      <td>14.65250</td>\n",
       "      <td>22.875000</td>\n",
       "      <td>21.9000</td>\n",
       "      <td>30.0000</td>\n",
       "      <td>0</td>\n",
       "      <td>0</td>\n",
       "      <td>9</td>\n",
       "    </tr>\n",
       "    <tr>\n",
       "      <th>4</th>\n",
       "      <td>1995-11-05</td>\n",
       "      <td>11</td>\n",
       "      <td>0.000714</td>\n",
       "      <td>48.458333</td>\n",
       "      <td>32.333333</td>\n",
       "      <td>10.28750</td>\n",
       "      <td>16.125000</td>\n",
       "      <td>15.0000</td>\n",
       "      <td>19.9000</td>\n",
       "      <td>0</td>\n",
       "      <td>0</td>\n",
       "      <td>10</td>\n",
       "    </tr>\n",
       "    <tr>\n",
       "      <th>...</th>\n",
       "      <td>...</td>\n",
       "      <td>...</td>\n",
       "      <td>...</td>\n",
       "      <td>...</td>\n",
       "      <td>...</td>\n",
       "      <td>...</td>\n",
       "      <td>...</td>\n",
       "      <td>...</td>\n",
       "      <td>...</td>\n",
       "      <td>...</td>\n",
       "      <td>...</td>\n",
       "      <td>...</td>\n",
       "    </tr>\n",
       "    <tr>\n",
       "      <th>10313</th>\n",
       "      <td>2024-12-27</td>\n",
       "      <td>12</td>\n",
       "      <td>0.000000</td>\n",
       "      <td>39.400000</td>\n",
       "      <td>20.933333</td>\n",
       "      <td>2.71125</td>\n",
       "      <td>18.466667</td>\n",
       "      <td>9.4125</td>\n",
       "      <td>15.4250</td>\n",
       "      <td>0</td>\n",
       "      <td>2</td>\n",
       "      <td>0</td>\n",
       "    </tr>\n",
       "    <tr>\n",
       "      <th>10314</th>\n",
       "      <td>2024-12-28</td>\n",
       "      <td>12</td>\n",
       "      <td>0.252195</td>\n",
       "      <td>45.266667</td>\n",
       "      <td>29.066667</td>\n",
       "      <td>2.07000</td>\n",
       "      <td>16.200000</td>\n",
       "      <td>7.7875</td>\n",
       "      <td>11.4500</td>\n",
       "      <td>0</td>\n",
       "      <td>0</td>\n",
       "      <td>1</td>\n",
       "    </tr>\n",
       "    <tr>\n",
       "      <th>10315</th>\n",
       "      <td>2024-12-29</td>\n",
       "      <td>12</td>\n",
       "      <td>0.461310</td>\n",
       "      <td>54.133333</td>\n",
       "      <td>41.466667</td>\n",
       "      <td>7.60500</td>\n",
       "      <td>12.666667</td>\n",
       "      <td>21.9500</td>\n",
       "      <td>33.5125</td>\n",
       "      <td>0</td>\n",
       "      <td>0</td>\n",
       "      <td>2</td>\n",
       "    </tr>\n",
       "    <tr>\n",
       "      <th>10316</th>\n",
       "      <td>2024-12-30</td>\n",
       "      <td>12</td>\n",
       "      <td>0.369213</td>\n",
       "      <td>59.066667</td>\n",
       "      <td>45.200000</td>\n",
       "      <td>11.94125</td>\n",
       "      <td>13.866667</td>\n",
       "      <td>24.5000</td>\n",
       "      <td>36.7000</td>\n",
       "      <td>0</td>\n",
       "      <td>0</td>\n",
       "      <td>3</td>\n",
       "    </tr>\n",
       "    <tr>\n",
       "      <th>10317</th>\n",
       "      <td>2024-12-31</td>\n",
       "      <td>12</td>\n",
       "      <td>0.066118</td>\n",
       "      <td>54.733333</td>\n",
       "      <td>35.133333</td>\n",
       "      <td>6.87750</td>\n",
       "      <td>19.600000</td>\n",
       "      <td>19.3750</td>\n",
       "      <td>27.5750</td>\n",
       "      <td>0</td>\n",
       "      <td>0</td>\n",
       "      <td>4</td>\n",
       "    </tr>\n",
       "  </tbody>\n",
       "</table>\n",
       "<p>10318 rows × 12 columns</p>\n",
       "</div>"
      ],
      "text/plain": [
       "             DATE  Month      PRCP       TMAX       TMIN      AWND      TDIFF  \\\n",
       "0      1995-11-01     11  0.183214  57.083333  47.291667   6.93500   9.791667   \n",
       "1      1995-11-02     11  0.728929  64.782609  52.130435   7.44000  12.652174   \n",
       "2      1995-11-03     11  0.137500  70.250000  54.333333   7.88750  15.916667   \n",
       "3      1995-11-04     11  0.015357  60.250000  37.375000  14.65250  22.875000   \n",
       "4      1995-11-05     11  0.000714  48.458333  32.333333  10.28750  16.125000   \n",
       "...           ...    ...       ...        ...        ...       ...        ...   \n",
       "10313  2024-12-27     12  0.000000  39.400000  20.933333   2.71125  18.466667   \n",
       "10314  2024-12-28     12  0.252195  45.266667  29.066667   2.07000  16.200000   \n",
       "10315  2024-12-29     12  0.461310  54.133333  41.466667   7.60500  12.666667   \n",
       "10316  2024-12-30     12  0.369213  59.066667  45.200000  11.94125  13.866667   \n",
       "10317  2024-12-31     12  0.066118  54.733333  35.133333   6.87750  19.600000   \n",
       "\n",
       "          WSF2     WSF5  intense  count of dry days  count of wet days  \n",
       "0      13.0000  17.9000        0                  0                  6  \n",
       "1      14.1000  17.9000        0                  0                  7  \n",
       "2      15.0000  19.9000        0                  0                  8  \n",
       "3      21.9000  30.0000        0                  0                  9  \n",
       "4      15.0000  19.9000        0                  0                 10  \n",
       "...        ...      ...      ...                ...                ...  \n",
       "10313   9.4125  15.4250        0                  2                  0  \n",
       "10314   7.7875  11.4500        0                  0                  1  \n",
       "10315  21.9500  33.5125        0                  0                  2  \n",
       "10316  24.5000  36.7000        0                  0                  3  \n",
       "10317  19.3750  27.5750        0                  0                  4  \n",
       "\n",
       "[10318 rows x 12 columns]"
      ]
     },
     "execution_count": 3,
     "metadata": {},
     "output_type": "execute_result"
    }
   ],
   "source": [
    "df"
   ]
  },
  {
   "cell_type": "code",
   "execution_count": 4,
   "id": "7e95c4a2",
   "metadata": {},
   "outputs": [],
   "source": [
    "X = df[[\"Month\",\"TMAX\",\"TMIN\",\"AWND\",\"TDIFF\",\"WSF2\",\"WSF5\",\"count of dry days\",\"count of wet days\"]]\n",
    "\n",
    "y = df[\"PRCP\"]"
   ]
  },
  {
   "cell_type": "markdown",
   "id": "283a7209",
   "metadata": {},
   "source": [
    "Split the Data"
   ]
  },
  {
   "cell_type": "code",
   "execution_count": 95,
   "id": "3828a502",
   "metadata": {},
   "outputs": [],
   "source": [
    "kf = KFold(shuffle=True, random_state=2, n_splits=3)"
   ]
  },
  {
   "cell_type": "code",
   "execution_count": 96,
   "id": "bbc9b3e8",
   "metadata": {},
   "outputs": [
    {
     "name": "stdout",
     "output_type": "stream",
     "text": [
      "Train index: [ 0  1  5  7  9 11 12 13 14 17] 6878\n",
      "Test index: [ 2  3  4  6  8 10 15 16 18 20] 3440\n",
      "\n",
      "Train index: [ 1  2  3  4  6  8  9 10 12 14] 6879\n",
      "Test index: [ 0  5  7 11 13 19 21 34 35 36] 3439\n",
      "\n",
      "Train index: [ 0  2  3  4  5  6  7  8 10 11] 6879\n",
      "Test index: [ 1  9 12 14 17 23 24 25 26 29] 3439\n",
      "\n"
     ]
    }
   ],
   "source": [
    "for train_index, test_index in kf.split(X):\n",
    "    print(\"Train index:\", train_index[:10], len(train_index))\n",
    "    print(\"Test index:\",test_index[:10], len(test_index))\n",
    "    print('')"
   ]
  },
  {
   "cell_type": "markdown",
   "id": "ddd53f55",
   "metadata": {},
   "source": [
    "Simple Linear Regression"
   ]
  },
  {
   "cell_type": "code",
   "execution_count": 97,
   "id": "08a11655",
   "metadata": {},
   "outputs": [],
   "source": [
    "scores = []\n",
    "mses = []\n",
    "rmses = []\n",
    "\n",
    "lr = LinearRegression()\n",
    "s = StandardScaler()\n",
    "\n",
    "for train_index, test_index in kf.split(X):\n",
    "    X_train, X_test, y_train, y_test = (X.iloc[train_index, :], \n",
    "                                        X.iloc[test_index, :], \n",
    "                                        y[train_index], \n",
    "                                        y[test_index])\n",
    "    \n",
    "    X_train_s = s.fit_transform(X_train)\n",
    "    \n",
    "    lr.fit(X_train_s, y_train)\n",
    "    \n",
    "    X_test_s = s.transform(X_test)\n",
    "    \n",
    "    y_pred = lr.predict(X_test_s)\n",
    "\n",
    "    score = r2_score(y_test.values, y_pred)\n",
    "    mse = mean_squared_error(y_test.values, y_pred)\n",
    "    rmse = np.sqrt(mse)\n",
    "\n",
    "    scores.append(score)\n",
    "    mses.append(mse)\n",
    "    rmses.append(rmse)\n",
    "    "
   ]
  },
  {
   "cell_type": "code",
   "execution_count": 99,
   "id": "8f49232f",
   "metadata": {},
   "outputs": [
    {
     "name": "stdout",
     "output_type": "stream",
     "text": [
      "R2 Score\n",
      "[0.17961697256691622, 0.15492546952104358, 0.16625183892073836]\n",
      "MSE\n",
      "[0.06966285406495569, 0.08911078395919819, 0.0777750671546273]\n",
      "RMSE\n",
      "[np.float64(0.26393721614231613), np.float64(0.2985142943967645), np.float64(0.27888181574750853)]\n"
     ]
    }
   ],
   "source": [
    "print(\"R2 Score\")\n",
    "print(scores)\n",
    "print(\"MSE\")\n",
    "print(mses)\n",
    "print(\"RMSE\")\n",
    "print(rmses)\n"
   ]
  },
  {
   "cell_type": "markdown",
   "id": "9f851fc7",
   "metadata": {},
   "source": [
    "Hyperparameter Tuning"
   ]
  },
  {
   "cell_type": "markdown",
   "id": "ad60ce17",
   "metadata": {},
   "source": [
    "Choose ridge because there are not enough data points to want to zero them out !"
   ]
  },
  {
   "cell_type": "code",
   "execution_count": 116,
   "id": "47988aa6",
   "metadata": {},
   "outputs": [],
   "source": [
    "#Ridge Regression\n",
    "scores = []\n",
    "coefs = []\n",
    "mses = []\n",
    "rmses = []\n",
    "# Different alphas for ridge regression\n",
    "alphas = np.geomspace(1, 100, 100)\n",
    "\n",
    "for alpha in alphas:\n",
    "    rd = Ridge(alpha=alpha, max_iter=100000)\n",
    "    \n",
    "    estimator = Pipeline([\n",
    "        (\"scaler\", s),\n",
    "        (\"ridge_regression\", rd)])\n",
    "\n",
    "    predictions = cross_val_predict(estimator, X, y, cv = kf)\n",
    "    \n",
    "    score = r2_score(y, predictions)\n",
    "    mse = mean_squared_error(y, predictions)\n",
    "    rmse = np.sqrt(mse)\n",
    "\n",
    "    scores.append(score)\n",
    "    mses.append(mse)\n",
    "    rmses.append(rmse)"
   ]
  },
  {
   "cell_type": "code",
   "execution_count": 117,
   "id": "b061d21c",
   "metadata": {},
   "outputs": [
    {
     "name": "stdout",
     "output_type": "stream",
     "text": [
      "R2 Scores\n",
      "[0.16624091820841813, 0.16624099449875973, 0.16624107432771784, 0.16624115785469906, 0.16624124524582484, 0.16624133667416974, 0.16624143231999922, 0.1662415323710127, 0.16624163702258854, 0.1662417464780287, 0.16624186094880633, 0.16624198065481, 0.1662421058245892, 0.16624223669559446, 0.1662423735144143, 0.16624251653700528, 0.1662426660289147, 0.16624282226549258, 0.16624298553209182, 0.16624315612425322, 0.16624333434787186, 0.16624352051934255, 0.1662437149656817, 0.16624391802461969, 0.16624413004465888, 0.1662443513850964, 0.16624458241600193, 0.16624482351814618, 0.16624507508287656, 0.16624533751192672, 0.16624561121715886, 0.16624589662022626, 0.16624619415214825, 0.1662465042527873, 0.1662468273702179, 0.16624716395997463, 0.16624751448416575, 0.16624787941044106, 0.16624825921079667, 0.1662486543601991, 0.1662490653350155, 0.16624949261122413, 0.16624993666239374, 0.16625039795739838, 0.16625087695785468, 0.16625137411524904, 0.16625188986773032, 0.16625242463653778, 0.1662529788220356, 0.1662535527993173, 0.16625414691334806, 0.16625476147360607, 0.16625539674818546, 0.16625605295731538, 0.1662567302662573, 0.16625742877752947, 0.1662581485224114, 0.16625888945168266, 0.16625965142553456, 0.16626043420261039, 0.16626123742810872, 0.16626206062089532, 0.16626290315956527, 0.16626376426738665, 0.16626464299606758, 0.16626553820828016, 0.16626644855887318, 0.16626737247470535, 0.1662683081330355, 0.1662692534383935, 0.16627020599786613, 0.16627116309472734, 0.16627212166033878, 0.16627307824425186, 0.16627402898243937, 0.1662749695635809, 0.1662758951933313, 0.16627680055649796, 0.16627767977704488, 0.16627852637585272, 0.16627933322614286, 0.16628009250648645, 0.1662807956513015, 0.16628143329873823, 0.1662819952358452, 0.16628247034089383, 0.1662828465227335, 0.16628311065701873, 0.1662832485191511, 0.166283244713742, 0.16628308260038283, 0.16628274421548794, 0.1662822101899365, 0.16628145966221197, 0.16628047018670444, 0.16627921763679776, 0.1662776761023289, 0.1662758177809659, 0.16627361286300701, 0.1662710294090668]\n",
      "MSE\n",
      "[0.07884852458860347, 0.07884851737383243, 0.07884850982441474, 0.07884850192527532, 0.07884849366070408, 0.07884848501433338, 0.07884847596911551, 0.07884846650729978, 0.07884845661040926, 0.07884844625921772, 0.07884843543372613, 0.07884842411313966, 0.07884841227584442, 0.07884839989938472, 0.0788483869604407, 0.07884837343480659, 0.07884835929736958, 0.07884834452208987, 0.07884832908198162, 0.07884831294909561, 0.07884829609450333, 0.07884827848828338, 0.07884826009950982, 0.07884824089624355, 0.07884822084552669, 0.07884819991338056, 0.07884817806480772, 0.0788481552637987, 0.0788481314733438, 0.07884810665545111, 0.07884808077117088, 0.07884805378062736, 0.07884802564305911, 0.07884799631686837, 0.07884796575968078, 0.07884793392841646, 0.07884790077937388, 0.07884786626832745, 0.07884783035064051, 0.07884779298139553, 0.07884775411554254, 0.07884771370806827, 0.07884767171418738, 0.0788476280895585, 0.07884758279052659, 0.0788475357743946, 0.07884748699972685, 0.07884743642668676, 0.07884738401741195, 0.07884732973642983, 0.07884727355111709, 0.0788472154322064, 0.07884715535434411, 0.07884709329670318, 0.07884702924365485, 0.07884696318550398, 0.07884689511929245, 0.07884682504967505, 0.07884675298987347, 0.0788466789627128, 0.07884660300174658, 0.07884652515247562, 0.07884644547366614, 0.0788463640387736, 0.07884628093747788, 0.078846196277336, 0.07884611018555879, 0.07884602281091808, 0.07884593432579036, 0.07884584492834402, 0.0788457548448767, 0.07884566433230894, 0.07884557368084158, 0.07884548321678327, 0.07884539330555472, 0.07884530435487713, 0.07884521681815133, 0.0788451311980346, 0.07884504805022316, 0.07884496798744679, 0.07884489168368432, 0.07884481987860759, 0.07884475338226296, 0.07884469307999976, 0.07884463993765593, 0.07884459500701238, 0.07884455943152818, 0.07884453445237158, 0.07884452141476159, 0.07884452177463878, 0.0788445371056852, 0.07884456910671558, 0.07884461960946602, 0.07884469058680832, 0.07884478416142188, 0.07884490261495873, 0.07884504839774074, 0.07884522413903206, 0.07884543265793362, 0.07884567697495035]\n",
      "RMSE\n",
      "[np.float64(0.28079979449530135), np.float64(0.28079978164847713), np.float64(0.280799768205771), np.float64(0.28079975414033986), np.float64(0.2807997394242097), np.float64(0.2807997240282358), np.float64(0.2807997079220623), np.float64(0.2807996910740818), np.float64(0.28079967345139356), np.float64(0.2807996550197627), np.float64(0.2807996357435781), np.float64(0.2807996155858118), np.float64(0.2807995945079772), np.float64(0.2807995724700889), np.float64(0.2807995494306227), np.float64(0.2807995253464767), np.float64(0.28079950017293404), np.float64(0.28079947386362725), np.float64(0.28079944637050414), np.float64(0.2807994176437971), np.float64(0.2807993876319949), np.float64(0.280799356281818), np.float64(0.2807993235381984), np.float64(0.28079928934426374), np.float64(0.2807992536413277), np.float64(0.28079921636888616), np.float64(0.280799177464621), np.float64(0.2807991368644118), np.float64(0.2807990945023573), np.float64(0.280799050310807), np.float64(0.2807990042204047), np.float64(0.28079895616014555), np.float64(0.2807989060574473), np.float64(0.2807988538382384), np.float64(0.2807987994270645), np.float64(0.2807987427472147), np.float64(0.28079868372087124), np.float64(0.2807986222692829), np.float64(0.28079855831296663), np.float64(0.2807984917719387), np.float64(0.28079842256597976), np.float64(0.2807983506149355), np.float64(0.2807982758390574), np.float64(0.2807981981593872), np.float64(0.2807981174981887), np.float64(0.28079803377943124), np.float64(0.28079794692933), np.float64(0.28079785687694764), np.float64(0.2807977635548616), np.float64(0.2807976668999047), np.float64(0.28079756685398305), np.float64(0.2807974633649784), np.float64(0.28079735638774117), np.float64(0.2807972458851817), np.float64(0.2807971318294666), np.float64(0.280797014203328), np.float64(0.28079689300149396), np.float64(0.2807967682322485), np.float64(0.28079663991912984), np.float64(0.2807965081027768), np.float64(0.28079637284293146), np.float64(0.2807962342206099), np.float64(0.28079609234044933), np.float64(0.28079594733324337), np.float64(0.2807957993586761), np.float64(0.28079564860826456), np.float64(0.28079549530852305), np.float64(0.28079533972435883), np.float64(0.28079518216271154), np.float64(0.2807950229764481), np.float64(0.28079486256852476), np.float64(0.2807947013964276), np.float64(0.2807945399769048), np.float64(0.28079437889100145), np.float64(0.2807942187894094), np.float64(0.28079406039814503), np.float64(0.28079390452456643), np.float64(0.2807937520637427), np.float64(0.2807936040051895), np.float64(0.28079346143998224), np.float64(0.2807933255682626), np.float64(0.2807931977071517), np.float64(0.2807930792990863), np.float64(0.2807929719205945), np.float64(0.28079287729152946), np.float64(0.28079279728478146), np.float64(0.2807927339364895), np.float64(0.2807926894567798), np.float64(0.2807926662410569), np.float64(0.28079266688188065), np.float64(0.2807926941814641), np.float64(0.2807927511648326), np.float64(0.2807928410936896), np.float64(0.2807929674810399), np.float64(0.2807931341066264), np.float64(0.28079334503324455), np.float64(0.2807936046240027), np.float64(0.2807939175606054), np.float64(0.2807942888627431), np.float64(0.2807947239086774)]\n"
     ]
    }
   ],
   "source": [
    "print(\"R2 Scores\")\n",
    "print(scores)\n",
    "print(\"MSE\")\n",
    "print(mses)\n",
    "print(\"RMSE\")\n",
    "print(rmses)"
   ]
  },
  {
   "cell_type": "code",
   "execution_count": 118,
   "id": "d011411d",
   "metadata": {},
   "outputs": [
    {
     "data": {
      "text/plain": [
       "Text(0, 0.5, '$R^2$')"
      ]
     },
     "execution_count": 118,
     "metadata": {},
     "output_type": "execute_result"
    },
    {
     "data": {
      "image/png": "[encoded data removed]",
      "text/plain": [
       "<Figure size 600x400 with 1 Axes>"
      ]
     },
     "metadata": {},
     "output_type": "display_data"
    }
   ],
   "source": [
    "plt.figure(figsize=(6,4))\n",
    "plt.plot(alphas, scores)\n",
    "plt.xlabel('$\\\\alpha$')\n",
    "plt.ylabel('$R^2$')"
   ]
  },
  {
   "cell_type": "markdown",
   "id": "0fc085b7",
   "metadata": {},
   "source": [
    "Adding Polynomial Features"
   ]
  },
  {
   "cell_type": "code",
   "execution_count": 110,
   "id": "dbcef9ea",
   "metadata": {},
   "outputs": [],
   "source": [
    "from sklearn.model_selection import GridSearchCV\n",
    "\n",
    "# Same estimator as before\n",
    "estimator = Pipeline([(\"scaler\", StandardScaler()),\n",
    "        (\"polynomial_features\", PolynomialFeatures()),\n",
    "        (\"ridge_regression\", Ridge())])\n",
    "\n",
    "params = {\n",
    "    'polynomial_features__degree': [1, 2, 3],\n",
    "    'ridge_regression__alpha': np.geomspace(1, 100, 100)\n",
    "}\n",
    "\n",
    "grid = GridSearchCV(estimator, params, cv=kf)"
   ]
  },
  {
   "cell_type": "code",
   "execution_count": 111,
   "id": "57e68dee",
   "metadata": {},
   "outputs": [
    {
     "data": {
      "text/plain": [
       "(np.float64(0.22201852326325885),\n",
       " {'polynomial_features__degree': 2,\n",
       "  'ridge_regression__alpha': np.float64(100.0)})"
      ]
     },
     "execution_count": 111,
     "metadata": {},
     "output_type": "execute_result"
    }
   ],
   "source": [
    "grid.fit(X, y)\n",
    "grid.best_score_, grid.best_params_"
   ]
  },
  {
   "cell_type": "markdown",
   "id": "55b5b2c3",
   "metadata": {},
   "source": [
    "Final Model using the Values from Above"
   ]
  },
  {
   "cell_type": "code",
   "execution_count": 119,
   "id": "1317498a",
   "metadata": {},
   "outputs": [],
   "source": [
    "# Using the values from above!\n",
    "pf = PolynomialFeatures(degree=2)\n",
    "rd = Ridge(alpha=100, max_iter=100000)\n",
    "\n",
    "estimator = Pipeline([\n",
    "    (\"scaler\", s),\n",
    "    (\"make_higher_degree\", pf),\n",
    "    (\"ridge_regression\", rd)])\n",
    "\n",
    "predictions = cross_val_predict(estimator, X, y, cv = kf)\n",
    "score = r2_score(y, predictions)"
   ]
  },
  {
   "cell_type": "code",
   "execution_count": 120,
   "id": "ba8e9d6a",
   "metadata": {},
   "outputs": [
    {
     "data": {
      "text/plain": [
       "0.23461405401543822"
      ]
     },
     "execution_count": 120,
     "metadata": {},
     "output_type": "execute_result"
    }
   ],
   "source": [
    "estimator.fit(X, y)\n",
    "estimator.score(X, y)"
   ]
  },
  {
   "cell_type": "code",
   "execution_count": 143,
   "id": "615bd06d",
   "metadata": {},
   "outputs": [
    {
     "data": {
      "image/png": "[encoded data removed]",
      "text/plain": [
       "<Figure size 640x480 with 1 Axes>"
      ]
     },
     "metadata": {},
     "output_type": "display_data"
    }
   ],
   "source": [
    "# Plot the regression line\n",
    "plt.scatter(y, predictions)\n",
    "plt.xlabel('Actual Rainfall')\n",
    "plt.ylabel('Predicted Rainfall')\n",
    "plt.title('Actual vs Predicted Rainfall')\n",
    "plt.show()"
   ]
  },
  {
   "cell_type": "code",
   "execution_count": 146,
   "id": "26760f06",
   "metadata": {},
   "outputs": [
    {
     "data": {
      "image/png": "[encoded data removed]",
      "text/plain": [
       "<Figure size 640x480 with 1 Axes>"
      ]
     },
     "metadata": {},
     "output_type": "display_data"
    }
   ],
   "source": [
    "residuals = y - predictions\n",
    "plt.scatter(predictions, residuals)\n",
    "plt.xlabel('Predicted Rainfall')\n",
    "plt.ylabel('Residuals')\n",
    "plt.title('Residual Plot')\n",
    "plt.axhline(y=0, color='r', linestyle='--')\n",
    "plt.show()"
   ]
  },
  {
   "cell_type": "code",
   "execution_count": 114,
   "id": "d01bd056",
   "metadata": {},
   "outputs": [],
   "source": [
    "col_names_dict = dict(zip(list(range(len(X.columns.values))), X.columns.values))"
   ]
  },
  {
   "cell_type": "code",
   "execution_count": 115,
   "id": "08fdbe06",
   "metadata": {},
   "outputs": [
    {
     "data": {
      "text/plain": [
       "{0: 'Month',\n",
       " 1: 'TMAX',\n",
       " 2: 'TMIN',\n",
       " 3: 'AWND',\n",
       " 4: 'TDIFF',\n",
       " 5: 'WSF2',\n",
       " 6: 'WSF5',\n",
       " 7: 'count of dry days',\n",
       " 8: 'count of wet days'}"
      ]
     },
     "execution_count": 115,
     "metadata": {},
     "output_type": "execute_result"
    }
   ],
   "source": [
    "col_names_dict"
   ]
  },
  {
   "cell_type": "code",
   "execution_count": null,
   "id": "be1b04b1",
   "metadata": {},
   "outputs": [],
   "source": []
  }
 ],
 "metadata": {
  "kernelspec": {
   "display_name": "Python 3",
   "language": "python",
   "name": "python3"
  },
  "language_info": {
   "codemirror_mode": {
    "name": "ipython",
    "version": 3
   },
   "file_extension": ".py",
   "mimetype": "text/x-python",
   "name": "python",
   "nbconvert_exporter": "python",
   "pygments_lexer": "ipython3",
   "version": "3.13.2"
  }
 },
 "nbformat": 4,
 "nbformat_minor": 5
}
